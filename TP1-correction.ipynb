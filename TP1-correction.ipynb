{
 "cells": [
  {
   "cell_type": "markdown",
   "id": "9f3a2aff",
   "metadata": {},
   "source": [
    "Ce TP s'inscrit dans l'exercice 2 du TD."
   ]
  },
  {
   "cell_type": "code",
   "execution_count": 2,
   "id": "f653806a",
   "metadata": {},
   "outputs": [],
   "source": [
    "import random\n",
    "\n",
    "def get_initial_state():\n",
    "    return [1,1,1,1,1, random.randint(0,9)]"
   ]
  },
  {
   "cell_type": "markdown",
   "id": "ffcb821e",
   "metadata": {},
   "source": [
    "**Question**: Écrire une fonction qui renvoie `r,s_`, qui correspondent au paiement et à l'état suivant tirés selon la distribution $p(\\,\\cdot\\,|s,a)$."
   ]
  },
  {
   "cell_type": "code",
   "execution_count": 7,
   "id": "3a8db765",
   "metadata": {},
   "outputs": [],
   "source": [
    "def sigma(s,a):\n",
    "    number = s[:5]\n",
    "    number[a-1] = 0\n",
    "    return number\n",
    "\n",
    "def transition(s,a):\n",
    "    if s[a-1] == 1:\n",
    "        return (10**(a-1))*s[5], [*sigma(s,a),random.randint(0,9)]\n",
    "    else:\n",
    "        return 0, s"
   ]
  },
  {
   "cell_type": "markdown",
   "id": "71e1eb8a",
   "metadata": {},
   "source": [
    "**Question**: Implémenter la politique qui renvoie l'action tirée uniformément parmi les emplacements disponibles."
   ]
  },
  {
   "cell_type": "code",
   "execution_count": 8,
   "id": "26e91b9a",
   "metadata": {},
   "outputs": [],
   "source": [
    "def pi(s):\n",
    "    a = random.randint(1,5)\n",
    "    if s[:5] == [0,0,0,0,0]:\n",
    "        return a\n",
    "    else:\n",
    "        while s[a-1] == 0:\n",
    "            a = random.randint(1,5)\n",
    "        return a"
   ]
  },
  {
   "cell_type": "markdown",
   "id": "449a2e9c",
   "metadata": {},
   "source": [
    "**Question**: Compléter la fonction `run_episode`."
   ]
  },
  {
   "cell_type": "code",
   "execution_count": 9,
   "id": "45f8cf1b",
   "metadata": {},
   "outputs": [],
   "source": [
    "def run_episode(policy):\n",
    "    s = get_initial_state()\n",
    "    total_reward = 0\n",
    "    while s[:5] != [0,0,0,0,0]:\n",
    "        r,s_ = transition(s,policy(s))\n",
    "        total_reward += r\n",
    "        s = s_\n",
    "\n",
    "    return total_reward"
   ]
  },
  {
   "cell_type": "markdown",
   "id": "aaf36ed3",
   "metadata": {},
   "source": [
    "**Question**: Evaluer la politique $\\pi$ en faisant tourner un grand nombre d'épisodes."
   ]
  },
  {
   "cell_type": "code",
   "execution_count": 10,
   "id": "62a3e3e0",
   "metadata": {},
   "outputs": [
    {
     "data": {
      "text/plain": [
       "49990.3665"
      ]
     },
     "execution_count": 10,
     "metadata": {},
     "output_type": "execute_result"
    }
   ],
   "source": [
    "def compute_mean(policy,nb=10000):\n",
    "    cumul = 0\n",
    "    for i in range(nb):\n",
    "        cumul += run_episode(policy)\n",
    "\n",
    "    return cumul/nb\n",
    "\n",
    "compute_mean(pi)"
   ]
  },
  {
   "cell_type": "markdown",
   "id": "20845f58",
   "metadata": {},
   "source": [
    "**Question**: Proposer une meilleure politique $\\pi'$ et l'évaluer."
   ]
  },
  {
   "cell_type": "markdown",
   "id": "c4c3b055",
   "metadata": {},
   "source": [
    "On propose la politique qui place les chiffres supérieurs à 7 (resp. inférieurs à 2) dans l'emplacement correspondant à la plus grande puissance de 10 disponible (resp. la plus petite), et les autres chiffres sont placés sur un emplacement disponible tiré uniformément."
   ]
  },
  {
   "cell_type": "code",
   "execution_count": 11,
   "id": "316a3754",
   "metadata": {},
   "outputs": [
    {
     "data": {
      "text/plain": [
       "73861.5956"
      ]
     },
     "execution_count": 11,
     "metadata": {},
     "output_type": "execute_result"
    }
   ],
   "source": [
    "def pi_(s):\n",
    "    if s[:5] == [0,0,0,0,0]:\n",
    "        return 1\n",
    "    elif s[5] >= 7:\n",
    "        a = 5\n",
    "        while s[a-1]==0:\n",
    "            a -= 1\n",
    "        return a\n",
    "    elif s[5] <= 2:\n",
    "        a = 1\n",
    "        while s[a-1]==0:\n",
    "            a += 1\n",
    "        return a\n",
    "    else:\n",
    "        return pi(s)\n",
    "    \n",
    "compute_mean(pi_)"
   ]
  }
 ],
 "metadata": {
  "kernelspec": {
   "display_name": "Python 3 (ipykernel)",
   "language": "python",
   "name": "python3"
  },
  "language_info": {
   "codemirror_mode": {
    "name": "ipython",
    "version": 3
   },
   "file_extension": ".py",
   "mimetype": "text/x-python",
   "name": "python",
   "nbconvert_exporter": "python",
   "pygments_lexer": "ipython3",
   "version": "3.9.18"
  }
 },
 "nbformat": 4,
 "nbformat_minor": 5
}
