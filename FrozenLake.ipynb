{
 "cells": [
  {
   "cell_type": "code",
   "execution_count": null,
   "id": "8ecb84cd-5943-4ab1-a920-fe12334a8edb",
   "metadata": {},
   "outputs": [],
   "source": [
    "%pip install 'gymnasium[toy_text]'"
   ]
  },
  {
   "cell_type": "markdown",
   "id": "44810274-248e-45e7-b6ae-26bf1b3aa285",
   "metadata": {},
   "source": [
    "On charge l'environnement Frozen Lake 8x8, qui se présente sous la forme d'une grille 8x8, dans laquelle on se déplace avec 4 actions (0: gauche, 1: bas, 2: droite, 3: haut). Cependant, le déplacement effectivement réalisé peut être perpendiculaire à celui attendu, car le lac est gelé et donc glissant: les transitions sont aléatoires. \n",
    "\n",
    "Les états (cases) sont numérotées de 0 à 63 selon l'expression suivante: ligne * 8 + colonne, où ligne et colonne vont de 0 à 7. La case en haut à gauche (0) de l'état de départ. La case en bas à droite (63) est l'objectif: une transition vers cet état donne un gain de 1. Toutes les autres transitions donnent un gain de 0. Lorsque cet état est atteint, on y reste et les paiements futurs sont nuls: on dit que l'épisode est terminé. Par ailleurs, il y certains états, notés H, qui sont des trous. Si on atteint un trou, on y reste et les paiements futurs sont nuls: l'épisode est terminé.\n",
    "\n",
    "On pourra lire la documentation https://gymnasium.farama.org/environments/toy_text/frozen_lake/ pour plus d'informations."
   ]
  },
  {
   "cell_type": "code",
   "execution_count": 6,
   "id": "0d0503c4-8846-4fe8-8433-21fa648e349c",
   "metadata": {},
   "outputs": [
    {
     "name": "stdout",
     "output_type": "stream",
     "text": [
      "\n",
      "\u001b[41mS\u001b[0mFFFFFFF\n",
      "FFFFFFFF\n",
      "FFFHFFFF\n",
      "FFFFFHFF\n",
      "FFFHFFFF\n",
      "FHHFFFHF\n",
      "FHFFHFHF\n",
      "FFFHFFFG\n",
      "\n"
     ]
    }
   ],
   "source": [
    "import gymnasium as gym\n",
    "env = gym.make(\"FrozenLake8x8-v1\", render_mode=\"ansi\", is_slippery=True)\n",
    "env.reset()\n",
    "print(env.render())"
   ]
  },
  {
   "cell_type": "markdown",
   "id": "e0c23233",
   "metadata": {},
   "source": [
    "Pour un état s donné, la fonction suivante tire et renvoie une action selon une politique epsilon-goutonne associée à une fonction action-valeur q."
   ]
  },
  {
   "cell_type": "code",
   "execution_count": null,
   "id": "c63f2a71",
   "metadata": {},
   "outputs": [],
   "source": [
    "def draw_action_greedy_policy(s, q, eps=0):\n",
    "    if np.random.binomial(1, eps) == 1:\n",
    "        return np.random.randint(low=0, high=4)\n",
    "    else:\n",
    "        Argmax = list(np.where(q[s]==q[s].max())[0]) \n",
    "        index = np.random.randint(low=0, high=len(Argmax))\n",
    "        return Argmax[index]"
   ]
  },
  {
   "cell_type": "markdown",
   "id": "cfd78e41-a089-4cc9-8c98-c069b76dc386",
   "metadata": {},
   "source": [
    "*Question*: Compléter le code suivant pour implémenter le Q-learning avec une politique epsilon-gloutonne."
   ]
  },
  {
   "cell_type": "code",
   "execution_count": null,
   "id": "12b9c6bc",
   "metadata": {},
   "outputs": [],
   "source": [
    "gamma = .99\n",
    "eps = .2\n",
    "n_iter = 5000\n",
    "state, info = env.reset()\n",
    "for k in range(n_iter):\n",
    "    a = #compléter\n",
    "    new_state, reward, terminated, truncated, info = env.step(a)\n",
    "\n",
    "    # compléter\n",
    "\n",
    "    state = new_state\n",
    "\n",
    "    if terminated or truncated:\n",
    "        state, info = env.reset()"
   ]
  }
 ],
 "metadata": {
  "kernelspec": {
   "display_name": "Python 3 (ipykernel)",
   "language": "python",
   "name": "python3"
  },
  "language_info": {
   "codemirror_mode": {
    "name": "ipython",
    "version": 3
   },
   "file_extension": ".py",
   "mimetype": "text/x-python",
   "name": "python",
   "nbconvert_exporter": "python",
   "pygments_lexer": "ipython3",
   "version": "3.9.18"
  },
  "name": "Untitled.ipynb"
 },
 "nbformat": 4,
 "nbformat_minor": 5
}
