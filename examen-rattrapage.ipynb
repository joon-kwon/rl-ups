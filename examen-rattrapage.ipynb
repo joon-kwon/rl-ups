{
 "cells": [
  {
   "cell_type": "markdown",
   "id": "138b94a0",
   "metadata": {},
   "source": [
    "La partie modélisation peut être rédigée sur une copie ou dans le notebook.\n",
    "\n",
    "Penser à régulièrement enregistrer le notebook.\n",
    "\n",
    "Le notebook devra être envoyé par e-mail à l'adresse joon.kwon@inrae.fr"
   ]
  },
  {
   "cell_type": "markdown",
   "id": "d46a7d2a",
   "metadata": {},
   "source": [
    "On considère une variante du problème du plus grand nombre à 5 chiffres (cf. TD1, TP1, TP2) à ceci près que: \n",
    "- les chiffres sont tirées ici selon une distribution $\\nu$ fixée mais inconnue\n",
    "- le choix d'un emplacement déjà pris est sanctionné par un paiement de -100000\n",
    "- après le deuxième chiffre, un signe $\\sigma\\in \\left\\{ - 1,1\n",
    "  \\right\\}$ est tiré uniformément et multipliera le nombre final obtenu.\n",
    "\n",
    "Le but de l'agent est de former un nombre à 5 chiffres, le plus grand possible. On considère 5 emplacements, initialement vides, correspondant aux chiffre des unités, des dizaines, des centaines, des milliers, et des dizaines de milliers. L'interaction se déroule en 6 étapes. Aux étapes 1, 2, 4, 5, 6, un chiffre (entre 0 et 9) est tiré selon $\\nu$ et présenté à l'agent. Celui-ci doit le placer dans l'un des emplacements disponibles. A l'étape 3, un signe $\\sigma\\in \\left\\{ - 1,1 \\right\\}$ est tiré uniformément et est observé par l'agent. Après les 6 étapes, le nombre finalement obtenu est: $\\sigma$ que multiplie l'entier naturel formé par les 5 chiffres positionnés par l'agent.\n",
    "\n",
    "On considère un paiement non-escompté ($\\gamma=1$) et on notera $\\mu$ la distribution pour l'état initial\n",
    "\n",
    "Ce code suivant représente sous la forme d'un array `nu` une distribution de probabilité sur l'ensemble des chiffres $\\left\\{ 0,\\dots,9 \\right\\}$. `nu` pourra être utilisé dans l'implémentation des transition du MDP, mais ne pourra pas être accédé directement par l'algorithme d'apprentissage par renforcement."
   ]
  },
  {
   "cell_type": "code",
   "execution_count": null,
   "id": "c7af4d84",
   "metadata": {},
   "outputs": [],
   "source": [
    "import random\n",
    "import numpy as np\n",
    "\n",
    "np.random.seed(2026)\n",
    "x = np.random.uniform(low=0.0, high=2, size=10)\n",
    "exp_x = np.exp(x - np.max(x))\n",
    "nu = exp_x / exp_x.sum()"
   ]
  },
  {
   "cell_type": "markdown",
   "id": "a9337c26",
   "metadata": {},
   "source": [
    "**Question 1**: Modéliser le problème par un MDP et l'implémenter. La modélisation devra être écrite de façon formelle. L'implémentation de l'environnement devra reprendre les conventions de la librairie Gymnasium. L'épisode est signalé comme terminé lorsque les 5 emplacements sont occupés (lorsque le nombre est formé) et comme tronqué au bout de 500 étapes."
   ]
  },
  {
   "cell_type": "code",
   "execution_count": null,
   "id": "c4fd44fd",
   "metadata": {},
   "outputs": [],
   "source": [
    "class nombre_cinq_chiffres():\n",
    "    def __init__(self):\n",
    "        return None\n",
    "\n",
    "    def reset(self):\n",
    "        # compléter\n",
    "    \n",
    "    def step(self, a):\n",
    "        # compléter\n",
    "\n",
    "        self.t += 1\n",
    "        truncated = (self.t == 500)\n",
    "        \n",
    "        #compléter"
   ]
  },
  {
   "cell_type": "markdown",
   "id": "602bbb96",
   "metadata": {},
   "source": [
    "**Question 2**: Implémenter un algorithme d'apprentissage pour trouver une politique optimale. Le faire tourner pendant (au moins) 10000 épisodes."
   ]
  },
  {
   "cell_type": "markdown",
   "id": "40234015",
   "metadata": {},
   "source": [
    "**Question 3**: Afficher la politique $\\pi$ obtenue."
   ]
  },
  {
   "cell_type": "markdown",
   "id": "033c6bac",
   "metadata": {},
   "source": [
    "**Question 4**: Estimer la quantité suivante en utilisant la politique obtenue $\\pi$ sur 10000 épisodes.\n",
    "$$\\mathbb{E}_{\\mu,\\pi}\\left[ \\sum_{t=1}^{+\\infty}R_t\\right].$$"
   ]
  },
  {
   "cell_type": "code",
   "execution_count": null,
   "id": "0e6b53a5",
   "metadata": {},
   "outputs": [],
   "source": []
  }
 ],
 "metadata": {
  "kernelspec": {
   "display_name": "Python 3",
   "language": "python",
   "name": "python3"
  },
  "language_info": {
   "codemirror_mode": {
    "name": "ipython",
    "version": 3
   },
   "file_extension": ".py",
   "mimetype": "text/x-python",
   "name": "python",
   "nbconvert_exporter": "python",
   "pygments_lexer": "ipython3",
   "version": "3.9.12"
  }
 },
 "nbformat": 4,
 "nbformat_minor": 5
}
