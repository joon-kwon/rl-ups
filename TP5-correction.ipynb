{
 "cells": [
  {
   "cell_type": "code",
   "execution_count": null,
   "id": "8ecb84cd-5943-4ab1-a920-fe12334a8edb",
   "metadata": {},
   "outputs": [],
   "source": [
    "%pip install 'gymnasium[toy_text]'"
   ]
  },
  {
   "cell_type": "markdown",
   "id": "44810274-248e-45e7-b6ae-26bf1b3aa285",
   "metadata": {},
   "source": [
    "On charge l'environnement Frozen Lake 8x8, qui se présente sous la forme d'une grille 8x8, dans laquelle on se déplace avec 4 actions (0: gauche, 1: bas, 2: droite, 3: haut). Cependant, le déplacement effectivement réalisé peut être perpendiculaire à celui attendu, car le lac est gelé et donc glissant: les transitions sont aléatoires. \n",
    "\n",
    "Les états (cases) sont numérotées de 0 à 63 selon l'expression suivante: ligne * 8 + colonne, où ligne et colonne vont de 0 à 7. La case en haut à gauche (0) est l'état de départ. La case en bas à droite (63) est l'objectif: une transition vers cet état donne un paiement de 1. Toutes les autres transitions donnent un paiement de 0. Lorsque cet état est atteint, on y reste et les paiements futurs sont nuls: on dit que l'épisode est terminé. Par ailleurs, il y certains états, notés H, qui sont des trous. Si on atteint un trou, on y reste et les paiements futurs sont nuls: l'épisode est terminé.\n",
    "\n",
    "On pourra lire la documentation https://gymnasium.farama.org/environments/toy_text/frozen_lake/ pour plus d'informations."
   ]
  },
  {
   "cell_type": "code",
   "execution_count": 2,
   "id": "0d0503c4-8846-4fe8-8433-21fa648e349c",
   "metadata": {},
   "outputs": [
    {
     "name": "stdout",
     "output_type": "stream",
     "text": [
      "\n",
      "\u001b[41mS\u001b[0mFFFFFFF\n",
      "FFFFFFFF\n",
      "FFFHFFFF\n",
      "FFFFFHFF\n",
      "FFFHFFFF\n",
      "FHHFFFHF\n",
      "FHFFHFHF\n",
      "FFFHFFFG\n",
      "\n"
     ]
    }
   ],
   "source": [
    "import gymnasium as gym\n",
    "env = gym.make(\"FrozenLake8x8-v1\", render_mode=\"ansi\", is_slippery=True)\n",
    "env.reset()\n",
    "print(env.render())"
   ]
  },
  {
   "cell_type": "markdown",
   "id": "538a5220-ac01-48c6-ba9b-a57dd479f51a",
   "metadata": {},
   "source": [
    "Exécuter plusieurs fois la cellule suivante pour observer les états successifs."
   ]
  },
  {
   "cell_type": "code",
   "execution_count": 3,
   "id": "8d35e8d3-7765-46e3-bad5-7efdc299f102",
   "metadata": {},
   "outputs": [
    {
     "name": "stdout",
     "output_type": "stream",
     "text": [
      "  (Down)\n",
      "SFFFFFFF\n",
      "\u001b[41mF\u001b[0mFFFFFFF\n",
      "FFFHFFFF\n",
      "FFFFFHFF\n",
      "FFFHFFFF\n",
      "FHHFFFHF\n",
      "FHFFHFHF\n",
      "FFFHFFFG\n",
      "\n"
     ]
    }
   ],
   "source": [
    "s, r, terminated, truncated, info = env.step(1)\n",
    "print(env.render())"
   ]
  },
  {
   "cell_type": "markdown",
   "id": "f966661e-ffde-4e38-b7a4-80f17da761d2",
   "metadata": {},
   "source": [
    "La fonction `env.step()` ci-dessus renvoie 5 valeurs: `s` contient le nouvel état, `r` le gain, `terminated` est un booléen qui indique si l'épisode est terminé, et `truncated` est un booléen qui indique si l'épisode a été terminé car trop long (par défaut, cet environnement termine l'épisode au bout de 200 étapes). La variable `info` contient des informations supplémentaires dont on ne se servira pas.\n",
    "\n",
    "Lorsqu'un épisode est terminé, il faut en redémarrer un de la façon suivante."
   ]
  },
  {
   "cell_type": "code",
   "execution_count": 4,
   "id": "531f7660-9cb4-4534-af75-a64fe972a8a5",
   "metadata": {},
   "outputs": [],
   "source": [
    "s, info = env.reset()"
   ]
  },
  {
   "cell_type": "markdown",
   "id": "f28dfabc-9ce8-4c1a-bbe7-7f0f9afec9f8",
   "metadata": {},
   "source": [
    "**Question 1**: Écrire une fonction qui prend en argument une politique, et qui l'utilise pendant un certain nombre d'épisodes avant d'indiquer la proportion de réussites (d'épisodes qui ont atteint l'état 63). Une politique sera donnée sous la forme d'une fonction qui prend en argument un état (0 à 63) et qui renvoie une action (0 à 3)."
   ]
  },
  {
   "cell_type": "code",
   "execution_count": 5,
   "id": "23c82caa-a7b2-4178-a3a5-a446712ee9fe",
   "metadata": {},
   "outputs": [],
   "source": [
    "def success_rate(pi,n_episodes=1000):\n",
    "    env_ = gym.make(\"FrozenLake8x8-v1\", render_mode=\"ansi\", is_slippery=True)\n",
    "    n_success = 0\n",
    "    for episode in range(n_episodes):\n",
    "        s, info = env_.reset()\n",
    "        terminated = False\n",
    "        truncated = False\n",
    "        while not (terminated or truncated):\n",
    "            a = pi(s)\n",
    "            s, _, terminated, truncated, _ = env_.step(a)\n",
    "\n",
    "        if s == 63:\n",
    "            n_success += 1\n",
    "    return n_success/n_episodes"
   ]
  },
  {
   "cell_type": "markdown",
   "id": "cfd78e41-a089-4cc9-8c98-c069b76dc386",
   "metadata": {},
   "source": [
    "**Question 2**: Implémenter le Q-learning avec une politique epsilon-gloutonne. A intervalles régulier au fil des itérations, utiliser la fonction ci-dessus pour évaluer le taux de succès de politique gloutonne courante. Tracer ensuite le taux de succès en fonction du nombre d'itérations. On pourra adapter certaines fonctions implémentées dans le TP précédent."
   ]
  },
  {
   "cell_type": "code",
   "execution_count": null,
   "id": "3d0e3ad1",
   "metadata": {},
   "outputs": [
    {
     "name": "stdout",
     "output_type": "stream",
     "text": [
      "0 success rate 0.001\n",
      "10000 success rate 0.003\n",
      "20000 success rate 0.003\n",
      "30000 success rate 0.002\n",
      "40000 success rate 0.001\n",
      "50000 success rate 0.005\n",
      "60000 success rate 0.054\n",
      "70000 success rate 0.035\n",
      "80000 success rate 0.051\n",
      "90000 success rate 0.047\n",
      "100000 success rate 0.042\n",
      "110000 success rate 0.051\n",
      "120000 success rate 0.042\n",
      "130000 success rate 0.048\n",
      "140000 success rate 0.046\n",
      "150000 success rate 0.038\n",
      "160000 success rate 0.046\n",
      "170000 success rate 0.089\n",
      "180000 success rate 0.106\n",
      "190000 success rate 0.111\n",
      "200000 success rate 0.103\n",
      "210000 success rate 0.166\n",
      "220000 success rate 0.135\n",
      "230000 success rate 0.139\n",
      "240000 success rate 0.146\n",
      "250000 success rate 0.142\n",
      "260000 success rate 0.17\n",
      "270000 success rate 0.153\n",
      "280000 success rate 0.153\n",
      "290000 success rate 0.16\n",
      "300000 success rate 0.135\n",
      "310000 success rate 0.157\n",
      "320000 success rate 0.143\n",
      "330000 success rate 0.141\n",
      "340000 success rate 0.151\n",
      "350000 success rate 0.15\n",
      "360000 success rate 0.158\n",
      "370000 success rate 0.128\n",
      "380000 success rate 0.135\n",
      "390000 success rate 0.165\n",
      "400000 success rate 0.159\n",
      "410000 success rate 0.13\n",
      "420000 success rate 0.157\n",
      "430000 success rate 0.152\n",
      "440000 success rate 0.158\n",
      "450000 success rate 0.128\n",
      "460000 success rate 0.137\n",
      "470000 success rate 0.121\n",
      "480000 success rate 0.158\n",
      "490000 success rate 0.146\n",
      "500000 success rate 0.132\n",
      "510000 success rate 0.138\n",
      "520000 success rate 0.148\n",
      "530000 success rate 0.141\n",
      "540000 success rate 0.165\n",
      "550000 success rate 0.151\n",
      "560000 success rate 0.146\n",
      "570000 success rate 0.16\n",
      "580000 success rate 0.166\n",
      "590000 success rate 0.151\n",
      "600000 success rate 0.125\n",
      "610000 success rate 0.159\n",
      "620000 success rate 0.158\n",
      "630000 success rate 0.189\n",
      "640000 success rate 0.169\n",
      "650000 success rate 0.207\n",
      "660000 success rate 0.197\n",
      "670000 success rate 0.196\n",
      "680000 success rate 0.203\n",
      "690000 success rate 0.178\n",
      "700000 success rate 0.199\n",
      "710000 success rate 0.191\n",
      "720000 success rate 0.189\n",
      "730000 success rate 0.191\n",
      "740000 success rate 0.206\n",
      "750000 success rate 0.205\n",
      "760000 success rate 0.194\n",
      "770000 success rate 0.208\n",
      "780000 success rate 0.177\n"
     ]
    }
   ],
   "source": [
    "import matplotlib.pyplot as plt\n",
    "import numpy as np\n",
    "\n",
    "def draw_action_greedy_policy(s, q, eps=0):\n",
    "    # on pourra utiliser les fonction np.where(), np.random.binomial() , random.randint()\n",
    "    if np.random.binomial(1, eps) == 1:\n",
    "        return np.random.randint(low=0, high=4)\n",
    "    else:\n",
    "        Argmax = list(np.where(q[s]==q[s].max())[0]) \n",
    "        index = np.random.randint(low=0, high=len(Argmax))\n",
    "        return Argmax[index]\n",
    "    \n",
    "def greedy_policy(q):\n",
    "    def foo(s):\n",
    "        return draw_action_greedy_policy(s,q,0)\n",
    "    return foo\n",
    "\n",
    "def q_mean(q_cumul, n_updates):\n",
    "    return np.divide(q_cumul, n_updates, out=np.zeros_like(q_cumul), where=(n_updates != 0))\n",
    "\n",
    "gamma = .99\n",
    "eps = .2\n",
    "n_iter = 1000000\n",
    "env.reset()\n",
    "q_cumul = np.zeros((64,4))\n",
    "n_updates = np.zeros((64,4), dtype=int)\n",
    "rates_for_plot = []\n",
    "kk_for_plot = []\n",
    "for k in range(n_iter):\n",
    "    a = draw_action_greedy_policy(s, q_mean(q_cumul, n_updates), eps)\n",
    "    s_, r, terminated, truncated, info = env.step(a)\n",
    "\n",
    "    q_cumul[s,a] += r+gamma*q_mean(q_cumul,n_updates)[s_].max()\n",
    "    n_updates[s,a] += 1\n",
    "\n",
    "    s = s_\n",
    "\n",
    "    if terminated or truncated:\n",
    "        s, info = env.reset()\n",
    "\n",
    "    if k % 10000 == 0:\n",
    "        current_success_rate = success_rate(greedy_policy(q_mean(q_cumul,n_updates)))\n",
    "        kk_for_plot.append(k) \n",
    "        rates_for_plot.append(current_success_rate)\n",
    "        print(k, 'success rate', current_success_rate)\n",
    "plt.plot(kk_for_plot, rates_for_plot)\n",
    "plt.show()"
   ]
  },
  {
   "cell_type": "markdown",
   "id": "602dba96-7df9-4a82-ad00-58f765c268e3",
   "metadata": {},
   "source": [
    "**Question 3:** Essayer en faisant décroître epsilon au fil des itérations."
   ]
  },
  {
   "cell_type": "code",
   "execution_count": 9,
   "id": "a50098dc",
   "metadata": {},
   "outputs": [
    {
     "name": "stdout",
     "output_type": "stream",
     "text": [
      "0 success rate 0.003\n",
      "10000 success rate 0.003\n",
      "20000 success rate 0.049\n",
      "30000 success rate 0.059\n",
      "40000 success rate 0.103\n",
      "50000 success rate 0.117\n",
      "60000 success rate 0.101\n",
      "70000 success rate 0.159\n",
      "80000 success rate 0.135\n",
      "90000 success rate 0.145\n",
      "100000 success rate 0.129\n",
      "110000 success rate 0.138\n",
      "120000 success rate 0.137\n",
      "130000 success rate 0.127\n",
      "140000 success rate 0.12\n",
      "150000 success rate 0.144\n",
      "160000 success rate 0.146\n",
      "170000 success rate 0.161\n",
      "180000 success rate 0.16\n",
      "190000 success rate 0.159\n",
      "200000 success rate 0.263\n",
      "210000 success rate 0.255\n",
      "220000 success rate 0.26\n",
      "230000 success rate 0.257\n",
      "240000 success rate 0.262\n",
      "250000 success rate 0.372\n",
      "260000 success rate 0.385\n",
      "270000 success rate 0.349\n",
      "280000 success rate 0.372\n",
      "290000 success rate 0.386\n",
      "300000 success rate 0.379\n",
      "310000 success rate 0.368\n",
      "320000 success rate 0.377\n",
      "330000 success rate 0.362\n",
      "340000 success rate 0.361\n",
      "350000 success rate 0.347\n",
      "360000 success rate 0.361\n",
      "370000 success rate 0.381\n",
      "380000 success rate 0.355\n",
      "390000 success rate 0.383\n",
      "400000 success rate 0.361\n",
      "410000 success rate 0.379\n",
      "420000 success rate 0.372\n",
      "430000 success rate 0.365\n",
      "440000 success rate 0.355\n",
      "450000 success rate 0.37\n",
      "460000 success rate 0.332\n",
      "470000 success rate 0.384\n",
      "480000 success rate 0.376\n",
      "490000 success rate 0.342\n",
      "500000 success rate 0.368\n",
      "510000 success rate 0.365\n",
      "520000 success rate 0.349\n",
      "530000 success rate 0.367\n",
      "540000 success rate 0.375\n",
      "550000 success rate 0.374\n",
      "560000 success rate 0.354\n",
      "570000 success rate 0.368\n",
      "580000 success rate 0.356\n",
      "590000 success rate 0.376\n",
      "600000 success rate 0.393\n",
      "610000 success rate 0.394\n",
      "620000 success rate 0.344\n",
      "630000 success rate 0.374\n",
      "640000 success rate 0.456\n",
      "650000 success rate 0.444\n",
      "660000 success rate 0.467\n",
      "670000 success rate 0.439\n",
      "680000 success rate 0.451\n",
      "690000 success rate 0.458\n",
      "700000 success rate 0.438\n",
      "710000 success rate 0.403\n",
      "720000 success rate 0.456\n",
      "730000 success rate 0.429\n",
      "740000 success rate 0.411\n",
      "750000 success rate 0.412\n",
      "760000 success rate 0.442\n",
      "770000 success rate 0.413\n",
      "780000 success rate 0.454\n",
      "790000 success rate 0.435\n",
      "800000 success rate 0.447\n",
      "810000 success rate 0.406\n",
      "820000 success rate 0.444\n",
      "830000 success rate 0.442\n",
      "840000 success rate 0.432\n",
      "850000 success rate 0.46\n",
      "860000 success rate 0.444\n",
      "870000 success rate 0.418\n",
      "880000 success rate 0.419\n",
      "890000 success rate 0.42\n",
      "900000 success rate 0.455\n",
      "910000 success rate 0.431\n",
      "920000 success rate 0.449\n",
      "930000 success rate 0.45\n",
      "940000 success rate 0.423\n",
      "950000 success rate 0.466\n",
      "960000 success rate 0.469\n",
      "970000 success rate 0.467\n",
      "980000 success rate 0.433\n",
      "990000 success rate 0.458\n"
     ]
    },
    {
     "data": {
      "image/png": "[encoded data removed]",
      "text/plain": [
       "<Figure size 640x480 with 1 Axes>"
      ]
     },
     "metadata": {},
     "output_type": "display_data"
    }
   ],
   "source": [
    "import math \n",
    "\n",
    "gamma = .99\n",
    "n_iter = 1000000\n",
    "env.reset()\n",
    "q_cumul = np.zeros((64,4))\n",
    "n_updates = np.zeros((64,4), dtype=int)\n",
    "rates_for_plot = []\n",
    "kk_for_plot = []\n",
    "for k in range(n_iter):\n",
    "    a = draw_action_greedy_policy(s, q_mean(q_cumul, n_updates), .3/math.sqrt(k/250000+1))\n",
    "    s_, r, terminated, truncated, info = env.step(a)\n",
    "\n",
    "    q_cumul[s,a] += r+gamma*q_mean(q_cumul,n_updates)[s_].max()\n",
    "    n_updates[s,a] += 1\n",
    "\n",
    "    s = s_\n",
    "\n",
    "    if terminated or truncated:\n",
    "        s, info = env.reset()\n",
    "\n",
    "    if k % 10000 == 0:\n",
    "        current_success_rate = success_rate(greedy_policy(q_mean(q_cumul,n_updates)))\n",
    "        kk_for_plot.append(k) \n",
    "        rates_for_plot.append(current_success_rate)\n",
    "        print(k, 'success rate', current_success_rate)\n",
    "plt.plot(kk_for_plot, rates_for_plot)\n",
    "plt.show()"
   ]
  },
  {
   "cell_type": "markdown",
   "id": "75b3cc4e-62a7-4586-968e-6fd812db1a5d",
   "metadata": {},
   "source": [
    "**Question 4**: Mêmes questions pour SARSA (à T-étapes)."
   ]
  },
  {
   "cell_type": "code",
   "execution_count": null,
   "id": "7b6665c5",
   "metadata": {},
   "outputs": [],
   "source": []
  }
 ],
 "metadata": {
  "kernelspec": {
   "display_name": "Python 3 (ipykernel)",
   "language": "python",
   "name": "python3"
  },
  "language_info": {
   "codemirror_mode": {
    "name": "ipython",
    "version": 3
   },
   "file_extension": ".py",
   "mimetype": "text/x-python",
   "name": "python",
   "nbconvert_exporter": "python",
   "pygments_lexer": "ipython3",
   "version": "3.9.18"
  },
  "name": "Untitled.ipynb"
 },
 "nbformat": 4,
 "nbformat_minor": 5
}
