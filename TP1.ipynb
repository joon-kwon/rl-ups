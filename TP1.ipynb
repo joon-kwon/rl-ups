{
 "cells": [
  {
   "cell_type": "markdown",
   "id": "9f3a2aff",
   "metadata": {},
   "source": [
    "Ce TP s'inscrit dans l'exercice 2 du TD."
   ]
  },
  {
   "cell_type": "code",
   "execution_count": 2,
   "id": "f653806a",
   "metadata": {},
   "outputs": [],
   "source": [
    "import random\n",
    "\n",
    "def get_initial_state():\n",
    "    return [1,1,1,1,1, random.randint(0,9)]"
   ]
  },
  {
   "cell_type": "markdown",
   "id": "ffcb821e",
   "metadata": {},
   "source": [
    "**Question**: Écrire une fonction qui renvoie `r,s_`, qui correspondent au paiement et à l'état suivant tirés selon la distribution $p(\\,\\cdot\\,|s,a)$."
   ]
  },
  {
   "cell_type": "code",
   "execution_count": 7,
   "id": "3a8db765",
   "metadata": {},
   "outputs": [],
   "source": [
    "def transition(s,a):\n",
    "    # compléter"
   ]
  },
  {
   "cell_type": "markdown",
   "id": "71e1eb8a",
   "metadata": {},
   "source": [
    "**Question**: Implémenter la politique qui renvoie l'action tirée uniformément parmi les emplacements disponibles."
   ]
  },
  {
   "cell_type": "code",
   "execution_count": 8,
   "id": "26e91b9a",
   "metadata": {},
   "outputs": [],
   "source": [
    "def pi(s):\n",
    "    # compléter"
   ]
  },
  {
   "cell_type": "markdown",
   "id": "449a2e9c",
   "metadata": {},
   "source": [
    "**Question**: Compléter la fonction `run_episode`."
   ]
  },
  {
   "cell_type": "code",
   "execution_count": 9,
   "id": "45f8cf1b",
   "metadata": {},
   "outputs": [],
   "source": [
    "def run_episode(policy):\n",
    "    s = get_initial_state()\n",
    "    total_reward = 0\n",
    "    \n",
    "    # compléter\n",
    "    \n",
    "    return total_reward"
   ]
  },
  {
   "cell_type": "markdown",
   "id": "aaf36ed3",
   "metadata": {},
   "source": [
    "**Question**: Evaluer la politique $\\pi$ en faisant tourner un grand nombre d'épisodes."
   ]
  },
  {
   "cell_type": "code",
   "execution_count": 10,
   "id": "62a3e3e0",
   "metadata": {},
   "outputs": [
    {
     "data": {
      "text/plain": [
       "49990.3665"
      ]
     },
     "execution_count": 10,
     "metadata": {},
     "output_type": "execute_result"
    }
   ],
   "source": []
  },
  {
   "cell_type": "markdown",
   "id": "20845f58",
   "metadata": {},
   "source": [
    "**Question**: Proposer une meilleure politique $\\pi'$ et l'évaluer."
   ]
  },
  {
   "cell_type": "markdown",
   "id": "c4c3b055",
   "metadata": {},
   "source": [
    "On propose la politique qui place les chiffres supérieurs à 7 (resp. inférieurs à 2) dans l'emplacement correspondant à la plus grande puissance de 10 disponible (resp. la plus petite), et les autres chiffres sont placés sur un emplacement disponible tiré uniformément."
   ]
  },
  {
   "cell_type": "code",
   "execution_count": 11,
   "id": "316a3754",
   "metadata": {},
   "outputs": [
    {
     "data": {
      "text/plain": [
       "73861.5956"
      ]
     },
     "execution_count": 11,
     "metadata": {},
     "output_type": "execute_result"
    }
   ],
   "source": []
  }
 ],
 "metadata": {
  "kernelspec": {
   "display_name": "Python 3",
   "language": "python",
   "name": "python3"
  },
  "language_info": {
   "codemirror_mode": {
    "name": "ipython",
    "version": 3
   },
   "file_extension": ".py",
   "mimetype": "text/x-python",
   "name": "python",
   "nbconvert_exporter": "python",
   "pygments_lexer": "ipython3",
   "version": "3.9.12"
  }
 },
 "nbformat": 4,
 "nbformat_minor": 5
}
